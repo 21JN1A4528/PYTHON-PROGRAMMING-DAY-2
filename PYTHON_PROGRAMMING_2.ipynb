{
  "nbformat": 4,
  "nbformat_minor": 0,
  "metadata": {
    "colab": {
      "provenance": []
    },
    "kernelspec": {
      "name": "python3",
      "display_name": "Python 3"
    },
    "language_info": {
      "name": "python"
    }
  },
  "cells": [
    {
      "cell_type": "markdown",
      "source": [
        "**COUNT OF VOWELS AND CONSONENTS IN A STRING**"
      ],
      "metadata": {
        "id": "QJHdvcNV7L2m"
      }
    },
    {
      "cell_type": "code",
      "source": [
        "a=input()\n",
        "v=0\n",
        "c=0\n",
        "for i in a:\n",
        "  if(i=='i'or i=='a'or i=='e' or i=='o'or i=='u' or i=='A' or i=='E' or i=='I' or i=='O' or i=='U'):\n",
        "    v=v+1\n",
        "  else:\n",
        "    c=c+1\n",
        "print(v)\n",
        "print(c)\n",
        "\n",
        ""
      ],
      "metadata": {
        "colab": {
          "base_uri": "https://localhost:8080/"
        },
        "id": "eCrwCOKK7Yv8",
        "outputId": "8ec553a7-4eb5-4362-d5dc-dd5419f6b4d4"
      },
      "execution_count": 3,
      "outputs": [
        {
          "output_type": "stream",
          "name": "stdout",
          "text": [
            "KanakaMahaLakshmi\n",
            "7\n",
            "10\n"
          ]
        }
      ]
    },
    {
      "cell_type": "markdown",
      "source": [
        "**CHECK WHETHER A CHARACTER IS ALPHABET OR NOT?**"
      ],
      "metadata": {
        "id": "x4y3A2hi9UNq"
      }
    },
    {
      "cell_type": "code",
      "source": [
        "ch=input()\n",
        "if'a'<=ch<='z' or 'A'<=ch<='Z':\n",
        "  print(\"alphabet\")\n",
        "else:\n",
        "    print(\"not alphabet\")\n"
      ],
      "metadata": {
        "colab": {
          "base_uri": "https://localhost:8080/"
        },
        "id": "j_Z4UWvp9SeW",
        "outputId": "498ec643-3e73-41d5-813e-200417e7a6ec"
      },
      "execution_count": 15,
      "outputs": [
        {
          "output_type": "stream",
          "name": "stdout",
          "text": [
            "100\n",
            "not alphabet\n"
          ]
        }
      ]
    },
    {
      "cell_type": "markdown",
      "source": [
        " **FIND ASCII VALUE OF THE CHARACTER**\n"
      ],
      "metadata": {
        "id": "2VO8rpkU-pSf"
      }
    },
    {
      "cell_type": "code",
      "source": [
        "a=input()\n",
        "print(ord(a))"
      ],
      "metadata": {
        "colab": {
          "base_uri": "https://localhost:8080/"
        },
        "id": "SaCbmOocAnu9",
        "outputId": "084ed32d-05af-4007-ad38-858733861eed"
      },
      "execution_count": 19,
      "outputs": [
        {
          "output_type": "stream",
          "name": "stdout",
          "text": [
            "m\n",
            "109\n"
          ]
        }
      ]
    },
    {
      "cell_type": "markdown",
      "source": [
        "**FIND LENGTH OF THE STRING WITHOUT USING \"STRLEN\"**"
      ],
      "metadata": {
        "id": "ZlqOHVcMCYCk"
      }
    },
    {
      "cell_type": "code",
      "source": [
        "s=input()\n",
        "c=0\n",
        "for i in s:\n",
        "  c=c+1\n",
        "print(c)"
      ],
      "metadata": {
        "colab": {
          "base_uri": "https://localhost:8080/"
        },
        "id": "0_pybJ6LCqyV",
        "outputId": "89b1fd16-7619-4fb8-aaf9-b7120cf7323a"
      },
      "execution_count": 20,
      "outputs": [
        {
          "output_type": "stream",
          "name": "stdout",
          "text": [
            "kml\n",
            "3\n"
          ]
        }
      ]
    },
    {
      "cell_type": "markdown",
      "source": [
        "**SORT AND SORTED**"
      ],
      "metadata": {
        "id": "D9SGxusXDFmY"
      }
    },
    {
      "cell_type": "code",
      "source": [
        "a=[1,4,2,5,3]\n",
        "a.sort()\n",
        "print(a)"
      ],
      "metadata": {
        "colab": {
          "base_uri": "https://localhost:8080/"
        },
        "id": "Rm-_PP-nDMT6",
        "outputId": "5ac64b74-a583-41a3-bba1-52b9053b5e4c"
      },
      "execution_count": 21,
      "outputs": [
        {
          "output_type": "stream",
          "name": "stdout",
          "text": [
            "[1, 2, 3, 4, 5]\n"
          ]
        }
      ]
    },
    {
      "cell_type": "code",
      "source": [
        "a=[1,4,5,3,2]\n",
        "b=sorted(a)\n",
        "print(b)"
      ],
      "metadata": {
        "colab": {
          "base_uri": "https://localhost:8080/"
        },
        "id": "buKmRNHVDaTO",
        "outputId": "f2da4c65-1e0d-4b24-ebaf-ca2d80c3fa73"
      },
      "execution_count": 23,
      "outputs": [
        {
          "output_type": "stream",
          "name": "stdout",
          "text": [
            "[1, 2, 3, 4, 5]\n"
          ]
        }
      ]
    }
  ]
}